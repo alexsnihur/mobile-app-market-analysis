{
 "cells": [
  {
   "cell_type": "markdown",
   "id": "e7989729-10ca-45fe-a27b-4fc746379237",
   "metadata": {},
   "source": [
    "# Profitable App Profiles for the App Store and Google Play Markets\n",
    "\n",
    "In this project I will analyze free Android and iOS apps on Google Play and the App Store using Python in Jupyter Notebook. I will combine loops, conditionals, dictionaries, and functions to explore app metadata and usage.\n",
    "\n",
    "The goal is to identify app categories and features that correlate with high user engagement under an ad-revenue model. These insights will guide developers toward building apps with the greatest potential to attract large user bases."
   ]
  },
  {
   "cell_type": "markdown",
   "id": "5ccada21-4b78-4c23-818d-700e3dea85ff",
   "metadata": {},
   "source": [
    "## Opening and Exploring the Data\n",
    "\n",
    "In September 2018 the Apple App Store contained nearly two million iOS applications and Google Play hosted just over 2.1 million Android apps.  \n",
    "![Figure 1: Number of apps in leading app stores in September 2018](https://s3.amazonaws.com/dq-content/350/py1m8_statista.png)  \n",
    "*Source: Statista*\n",
    "\n",
    "Collecting information on all four million plus apps would be expensive and time intensive. I will instead work with two publicly available samples. The first includes around ten thousand Android apps from Google Play. The second consists of roughly seven thousand iOS apps from the App Store. I will load these data sets into Python and proceed with an initial exploration of the data.  \n"
   ]
  },
  {
   "cell_type": "code",
   "execution_count": 1,
   "id": "30d8dc19-2bbf-44c4-ab30-786c916bf3fc",
   "metadata": {},
   "outputs": [],
   "source": [
    "from csv import reader\n",
    "\n",
    "open_as = open('/Users/alexsnihur/Desktop/DA Projects/Profitable App Profiles for the App Store and Google Play Markets/AppleStore.csv')\n",
    "open_gp = open('/Users/alexsnihur/Desktop/DA Projects/Profitable App Profiles for the App Store and Google Play Markets/googleplaystore.csv')\n",
    "\n",
    "read_as = reader(open_as)\n",
    "read_gp = reader(open_gp)\n",
    "\n",
    "app_store = list(read_as)\n",
    "ios_apps = app_store[1:]\n",
    "ios_apps_header = app_store[0]\n",
    "                        \n",
    "google_play = list(read_gp)\n",
    "android_apps = google_play[1:]\n",
    "android_apps_header = google_play[0]"
   ]
  },
  {
   "cell_type": "markdown",
   "id": "c29cac2a-334d-4a98-a262-e925a0ba3b08",
   "metadata": {},
   "source": [
    "I will define a function named `explore_data()` that displays a chosen range of rows from any data set in a clear, tabular view. I will add a parameter that, when set to true, prints the total number of rows and columns. This utility will simplify repeated inspection of the data sets. "
   ]
  },
  {
   "cell_type": "code",
   "execution_count": 2,
   "id": "7196d61f-4d75-405a-af87-f522241d831f",
   "metadata": {},
   "outputs": [],
   "source": [
    "def explore_data(dataset, start, end, rows_and_columns=False):\n",
    "    dataset_slice = dataset[start:end]    \n",
    "    for row in dataset_slice:\n",
    "        print(row)\n",
    "        print('\\n') # adds a new (empty) line after each row\n",
    "\n",
    "    if rows_and_columns:\n",
    "        print('Number of rows:', len(dataset))\n",
    "        print('Number of columns:', len(dataset[0]))"
   ]
  },
  {
   "cell_type": "code",
   "execution_count": 3,
   "id": "75f294df-bc84-47c2-ae0d-60d45ca0bbfb",
   "metadata": {},
   "outputs": [
    {
     "name": "stdout",
     "output_type": "stream",
     "text": [
      "['id', 'track_name', 'size_bytes', 'currency', 'price', 'rating_count_tot', 'rating_count_ver', 'user_rating', 'user_rating_ver', 'ver', 'cont_rating', 'prime_genre', 'sup_devices.num', 'ipadSc_urls.num', 'lang.num', 'vpp_lic']\n",
      "\n",
      "\n",
      "['284882215', 'Facebook', '389879808', 'USD', '0.0', '2974676', '212', '3.5', '3.5', '95.0', '4+', 'Social Networking', '37', '1', '29', '1']\n",
      "\n",
      "\n",
      "['389801252', 'Instagram', '113954816', 'USD', '0.0', '2161558', '1289', '4.5', '4.0', '10.23', '12+', 'Photo & Video', '37', '0', '29', '1']\n",
      "\n",
      "\n",
      "['529479190', 'Clash of Clans', '116476928', 'USD', '0.0', '2130805', '579', '4.5', '4.5', '9.24.12', '9+', 'Games', '38', '5', '18', '1']\n",
      "\n",
      "\n",
      "Number of rows: 7197\n",
      "Number of columns: 16\n"
     ]
    }
   ],
   "source": [
    "# The App Store data set\n",
    "\n",
    "print(ios_apps_header)\n",
    "print('\\n')\n",
    "explore_data(ios_apps, 0, 3, True)"
   ]
  },
  {
   "cell_type": "markdown",
   "id": "fc50a564-fd41-4a7e-ab24-f522d76d3743",
   "metadata": {},
   "source": [
    "The iOS data set contains 7197 apps. Some of the more relevant columns for this analysis include `track_name`, `currency`, `price`, `rating_count_tot`, `rating_count_ver`, and `prime_genre`. Column descriptions are available in the data set documentation: [Kaggle - App Store Data Set](https://www.kaggle.com/datasets/ramamet4/app-store-apple-data-set-10k-apps)."
   ]
  },
  {
   "cell_type": "code",
   "execution_count": 4,
   "id": "ee2bc9a6-82c6-47f3-a1ee-617c4a3fd584",
   "metadata": {},
   "outputs": [
    {
     "name": "stdout",
     "output_type": "stream",
     "text": [
      "['App', 'Category', 'Rating', 'Reviews', 'Size', 'Installs', 'Type', 'Price', 'Content Rating', 'Genres', 'Last Updated', 'Current Ver', 'Android Ver']\n",
      "\n",
      "\n",
      "['Photo Editor & Candy Camera & Grid & ScrapBook', 'ART_AND_DESIGN', '4.1', '159', '19M', '10,000+', 'Free', '0', 'Everyone', 'Art & Design', 'January 7, 2018', '1.0.0', '4.0.3 and up']\n",
      "\n",
      "\n",
      "['Coloring book moana', 'ART_AND_DESIGN', '3.9', '967', '14M', '500,000+', 'Free', '0', 'Everyone', 'Art & Design;Pretend Play', 'January 15, 2018', '2.0.0', '4.0.3 and up']\n",
      "\n",
      "\n",
      "['U Launcher Lite – FREE Live Cool Themes, Hide Apps', 'ART_AND_DESIGN', '4.7', '87510', '8.7M', '5,000,000+', 'Free', '0', 'Everyone', 'Art & Design', 'August 1, 2018', '1.2.4', '4.0.3 and up']\n",
      "\n",
      "\n",
      "Number of rows: 10841\n",
      "Number of columns: 13\n"
     ]
    }
   ],
   "source": [
    "# The Google Play data set\n",
    "\n",
    "print(android_apps_header)\n",
    "print('\\n')\n",
    "explore_data(android_apps, 0, 3, True)"
   ]
  },
  {
   "cell_type": "markdown",
   "id": "ca2b9d0f-ee85-4ed5-8700-61451627d7b6",
   "metadata": {},
   "source": [
    "The Google Play data set includes 10841 apps and 13 columns. For this project, the most useful columns appear to be `App`, `Category`, `Reviews`, `Installs`, `Type`, `Price`, and `Genres`."
   ]
  },
  {
   "cell_type": "markdown",
   "id": "d67f82f8-e3cd-4644-83d7-025f6718017d",
   "metadata": {},
   "source": [
    "## Deleting Wrong Data"
   ]
  },
  {
   "cell_type": "markdown",
   "id": "4771d47e-2be3-4382-99f4-10ac024940af",
   "metadata": {},
   "source": [
    "Before I start the analysis, I need to make sure the data is accurate and consistent. I will review both datasets and check the original sources, including forums and discussions, to see if there are any reported issues. If I find incorrect, incomplete, or corrupted rows, I will remove them to avoid errors in the analysis."
   ]
  },
  {
   "cell_type": "markdown",
   "id": "74c4bbb6-967c-41b7-9a08-ef3a902bdffd",
   "metadata": {},
   "source": [
    "### Google Play Dataset"
   ]
  },
  {
   "cell_type": "markdown",
   "id": "5b7ee3b7-5017-4610-902c-f7f4f6517926",
   "metadata": {},
   "source": [
    "In the [discussion](https://www.kaggle.com/datasets/lava18/google-play-store-apps/discussion/66015) section of the Google Play dataset, there is a reported issue with a specific row, which I will try to handle with the code below."
   ]
  },
  {
   "cell_type": "code",
   "execution_count": 5,
   "id": "3dd53011-34f7-445d-83ed-9732d6c14e60",
   "metadata": {},
   "outputs": [
    {
     "name": "stdout",
     "output_type": "stream",
     "text": [
      "['App', 'Category', 'Rating', 'Reviews', 'Size', 'Installs', 'Type', 'Price', 'Content Rating', 'Genres', 'Last Updated', 'Current Ver', 'Android Ver']\n",
      "13\n",
      "\n",
      "\n",
      "['Life Made WI-Fi Touchscreen Photo Frame', '1.9', '19', '3.0M', '1,000+', 'Free', '0', 'Everyone', '', 'February 11, 2018', '1.0.19', '4.0 and up']\n",
      "12\n"
     ]
    }
   ],
   "source": [
    "print(android_apps_header)\n",
    "print(len(android_apps_header))\n",
    "print('\\n')\n",
    "\n",
    "print(android_apps[10472])\n",
    "print(len(android_apps[10472]))"
   ]
  },
  {
   "cell_type": "markdown",
   "id": "33615266-66ba-4272-aca3-90393a5cacdd",
   "metadata": {},
   "source": [
    "I printed the header row to check the correct structure of the dataset. It contains 13 columns. Then I printed the row at index 10472, which was flagged in the dataset's discussion section as problematic. I noticed that this row only has 12 columns.\n",
    "\n",
    "Based on the discussion, the issue is that this row is missing a value in the `Category` column. Because of that, all the values in the row are shifted one position to the left. For example, the value `1.9`, which should be under the `Rating` column, ends up under `Category`. This causes the entire structure of the row to be misaligned.\n",
    "\n",
    "Although one user suggested manually correcting the row by inserting the missing category (e.g. `Lifestyle`), I decided to delete the row. I made this decision because:\n",
    "\n",
    "- The row structure is broken and misaligned.\n",
    "- It is safer to remove incorrect rows than to try to manually fix them without full confidence in the original values.\n",
    "- It is just one row out of over 10,000, so removing it does not impact the dataset significantly.\n",
    "\n",
    "This way I make sure the data I analyze is structurally correct and does not introduce errors in later steps."
   ]
  },
  {
   "cell_type": "code",
   "execution_count": 6,
   "id": "109fe42e-ff0b-4198-a8f5-4fbe20025e91",
   "metadata": {},
   "outputs": [
    {
     "name": "stdout",
     "output_type": "stream",
     "text": [
      "['osmino Wi-Fi: free WiFi', 'TOOLS', '4.2', '134203', '4.1M', '10,000,000+', 'Free', '0', 'Everyone', 'Tools', 'August 7, 2018', '6.06.14', '4.4 and up']\n",
      "13\n"
     ]
    }
   ],
   "source": [
    "del android_apps[10472]\n",
    "\n",
    "print(android_apps[10472])\n",
    "print(len(android_apps[10472]))"
   ]
  },
  {
   "cell_type": "markdown",
   "id": "dfda04c7-0384-4fde-b45c-bc50ef2694f7",
   "metadata": {},
   "source": [
    "I deleted the row at index `10472` using the `del` statement. Then I printed the new row at the same index and confirmed that it now contains valid data with the correct number of columns. This confirms that the malformed row was successfully removed from the dataset."
   ]
  },
  {
   "cell_type": "markdown",
   "id": "d0e83b57-4ad4-446b-af82-70fc826aa42e",
   "metadata": {},
   "source": [
    "### App Store Dataset"
   ]
  },
  {
   "cell_type": "markdown",
   "id": "68fc3956-60b1-45fc-9ca6-83d6e57be604",
   "metadata": {},
   "source": [
    "Now I am going to inspect the App Store dataset to check for structural issues. I want to find any rows that are either missing values or have fewer columns than expected. This helps ensure the dataset is clean and consistent before analysis."
   ]
  },
  {
   "cell_type": "code",
   "execution_count": 7,
   "id": "8dc74636-0342-424a-9946-7afdb388f212",
   "metadata": {},
   "outputs": [],
   "source": [
    "for i, row in enumerate(ios_apps, 1):\n",
    "    if len(row) != len(ios_apps_header):\n",
    "        print('Row', i, 'has missing collumns:', row)\n",
    "    elif any(cell is None or cell == \"\" for cell in row):\n",
    "        print('Row', i, 'has empty values:', row)"
   ]
  },
  {
   "cell_type": "markdown",
   "id": "819074c5-645c-4a05-8199-65c4ede5e8c5",
   "metadata": {},
   "source": [
    "I looped through each row in the App Store dataset to check for structural problems. The code did not return any output, which means all rows have the correct number of columns and there are no missing or empty values. The dataset appears to be clean and does not require any corrections at this stage."
   ]
  },
  {
   "cell_type": "markdown",
   "id": "3ef06c02-6183-4211-9f28-690aabb2a565",
   "metadata": {},
   "source": [
    "## Removing Duplicate Entries: Part One"
   ]
  },
  {
   "cell_type": "markdown",
   "id": "9244bf4f-0856-4ed7-a658-34246a370375",
   "metadata": {},
   "source": [
    "In this part of the cleaning process, I am going to identify apps that appear more than once in the dataset. Duplicate entries can distort results by giving extra weight to certain apps. My goal here is to detect and list duplicates, understand how they differ, and then define a clear rule for keeping only the best version of each app."
   ]
  },
  {
   "cell_type": "markdown",
   "id": "318d6ff2-6358-4c12-9b9c-a1ba8d9d376f",
   "metadata": {},
   "source": [
    "### Google Play Dataset"
   ]
  },
  {
   "cell_type": "markdown",
   "id": "a2d62777-5959-48c0-b056-d330be9bc155",
   "metadata": {},
   "source": [
    "I am going to check the Google Play dataset for duplicate app entries. Some apps appear more than once, which could affect the accuracy of the analysis. In this step, I want to count how many duplicates there are and print a few examples to confirm that they exist."
   ]
  },
  {
   "cell_type": "code",
   "execution_count": 8,
   "id": "09ec69b8-c26f-41f1-addb-9eab59392066",
   "metadata": {},
   "outputs": [
    {
     "name": "stdout",
     "output_type": "stream",
     "text": [
      "Number of duplicate Android apps: 1181\n",
      "\n",
      "\n",
      "Examples of duplicate Android apps: ['Quick PDF Scanner + OCR FREE', 'Box', 'Google My Business', 'ZOOM Cloud Meetings', 'join.me - Simple Meetings', 'Box', 'Zenefits', 'Google Ads', 'Google My Business', 'Slack']\n",
      "\n",
      "\n",
      "Number of unique Android apps: 9659\n"
     ]
    }
   ],
   "source": [
    "android_duplicate = []\n",
    "android_unique = []\n",
    "\n",
    "for name in android_apps:\n",
    "    name = name[0]\n",
    "    if name in android_unique:\n",
    "        android_duplicate.append(name)\n",
    "    else: android_unique.append(name)\n",
    "\n",
    "print('Number of duplicate Android apps:', len(android_duplicate))\n",
    "print('\\n')\n",
    "print('Examples of duplicate Android apps:', android_duplicate[:10])\n",
    "print('\\n')\n",
    "print('Number of unique Android apps:', len(android_unique))"
   ]
  },
  {
   "cell_type": "markdown",
   "id": "e438efa8-4724-48e3-b62c-cb5d15bae875",
   "metadata": {},
   "source": [
    "I created two lists: `android_duplicate` and `android_unique`. I looped through the dataset and added app names to the correct list depending on whether they had already been seen. In total, I found **1,181 duplicate entries**. I printed out a few of them to confirm. These include apps like *Box*, *Slack*, and *Google My Business*.\n",
    "\n",
    "Since duplicate rows may contain outdated or repeated information, I will remove them. But instead of removing them randomly, I will keep only the row with the most reviews, since more reviews likely means the data is more recent."
   ]
  },
  {
   "cell_type": "markdown",
   "id": "45639bc9-2564-4f5c-bf1c-91d4bc81da74",
   "metadata": {},
   "source": [
    "To better understand what kind of variation exists between duplicate entries, I will print all the rows for a specific app that appeared multiple times. I chose *Slack* as an example."
   ]
  },
  {
   "cell_type": "code",
   "execution_count": 9,
   "id": "8507d614-f954-4e20-8dc6-d9956d24f7e0",
   "metadata": {},
   "outputs": [
    {
     "name": "stdout",
     "output_type": "stream",
     "text": [
      "['Slack', 'BUSINESS', '4.4', '51507', 'Varies with device', '5,000,000+', 'Free', '0', 'Everyone', 'Business', 'August 2, 2018', 'Varies with device', 'Varies with device']\n",
      "['Slack', 'BUSINESS', '4.4', '51507', 'Varies with device', '5,000,000+', 'Free', '0', 'Everyone', 'Business', 'August 2, 2018', 'Varies with device', 'Varies with device']\n",
      "['Slack', 'BUSINESS', '4.4', '51510', 'Varies with device', '5,000,000+', 'Free', '0', 'Everyone', 'Business', 'August 2, 2018', 'Varies with device', 'Varies with device']\n"
     ]
    }
   ],
   "source": [
    "for row in android_apps:\n",
    "    name = row[0]\n",
    "    if name == 'Slack':\n",
    "        print(row)"
   ]
  },
  {
   "cell_type": "markdown",
   "id": "0ef19abf-c65a-49a1-95a4-b04f2bdb6f5f",
   "metadata": {},
   "source": [
    "I printed all entries for the app *Slack*. Even though the name is the same, I noticed some variation in the number of reviews. This confirms that these duplicates were likely collected at different times. Again, it supports my decision to keep only the row with the highest number of reviews for each app."
   ]
  },
  {
   "cell_type": "markdown",
   "id": "e44637e6-6352-45bf-856d-2839353b1e27",
   "metadata": {},
   "source": [
    "### App Store Dataset"
   ]
  },
  {
   "cell_type": "markdown",
   "id": "c76e4239-77ca-497f-a76a-1e694896b6ef",
   "metadata": {},
   "source": [
    "I also want to check if the App Store dataset has any duplicate app entries. I will use the same method I applied to the Google Play dataset."
   ]
  },
  {
   "cell_type": "code",
   "execution_count": 10,
   "id": "b9cd3126-110c-4339-8728-752182d6ea04",
   "metadata": {},
   "outputs": [
    {
     "name": "stdout",
     "output_type": "stream",
     "text": [
      "Number of duplicate iOS apps: 0\n",
      "\n",
      "\n",
      "Examples of duplicate iOS apps: []\n",
      "\n",
      "\n",
      "Number of unique iOS apps: 7197\n"
     ]
    }
   ],
   "source": [
    "ios_duplicate = []\n",
    "ios_unique = []\n",
    "\n",
    "for name in ios_apps:\n",
    "    name = name[0]\n",
    "    if name in ios_unique:\n",
    "        ios_duplicate.append(name)\n",
    "    else: ios_unique.append(name)\n",
    "\n",
    "print('Number of duplicate iOS apps:', len(ios_duplicate))\n",
    "print('\\n')\n",
    "print('Examples of duplicate iOS apps:', ios_duplicate[:10])\n",
    "print('\\n')\n",
    "print('Number of unique iOS apps:', len(ios_unique))"
   ]
  },
  {
   "cell_type": "markdown",
   "id": "9fd75ac2-4c31-4fe8-bba9-376bbc683394",
   "metadata": {},
   "source": [
    "I ran the same process for the App Store data. I created two lists, `ios_duplicate` and `ios_unique`, and looped through the app names. The result shows that there are no duplicate entries in the App Store dataset. That means I do not need to clean anything here related to duplicates, and I can move on to the next step."
   ]
  },
  {
   "cell_type": "markdown",
   "id": "62c60487-fd60-4cfd-91bb-7c0581aea128",
   "metadata": {},
   "source": [
    "## Removing Duplicate Entries: Part Two"
   ]
  },
  {
   "cell_type": "markdown",
   "id": "5e238146-1f80-4cbd-a702-d66e141d03fa",
   "metadata": {},
   "source": [
    "In the previous step I identified 1,181 duplicate app entries in the Google Play dataset. I will now remove these duplicates while keeping only one entry per app, specifically the one with the highest number of reviews."
   ]
  },
  {
   "cell_type": "code",
   "execution_count": 11,
   "id": "aa98ac16-e93d-4596-b5a1-5de2f4113f4e",
   "metadata": {},
   "outputs": [
    {
     "name": "stdout",
     "output_type": "stream",
     "text": [
      "9659\n"
     ]
    }
   ],
   "source": [
    "reviews_max = {}\n",
    "\n",
    "for app in android_apps:\n",
    "    name = app[0]\n",
    "    n_reviews = float(app[3])\n",
    "    if name in reviews_max and reviews_max[name] < n_reviews:\n",
    "        reviews_max[name] = n_reviews\n",
    "    if name not in reviews_max:\n",
    "        reviews_max[name] = n_reviews\n",
    "\n",
    "print(len(reviews_max))"
   ]
  },
  {
   "cell_type": "markdown",
   "id": "2d78ae99-0f18-4d14-a952-f68ca59605ea",
   "metadata": {},
   "source": [
    "I created an empty dictionary called `reviews_max`. Each key in the dictionary is a unique app name, and the value is the highest number of reviews for that app. I looped through the dataset, updating the value if the current row had more reviews or adding the app name if it was not yet in the dictionary. The dictionary length was 9659, which matches the number of unique apps."
   ]
  },
  {
   "cell_type": "markdown",
   "id": "bc527117-0d15-4cc3-91f4-9a18e481d252",
   "metadata": {},
   "source": [
    "I will now use the `reviews_max` dictionary to remove duplicate rows and keep only the row with the highest number of reviews for each app."
   ]
  },
  {
   "cell_type": "code",
   "execution_count": 12,
   "id": "9d3b6154-35f2-4c31-8552-48785ae53e45",
   "metadata": {},
   "outputs": [
    {
     "name": "stdout",
     "output_type": "stream",
     "text": [
      "9659\n"
     ]
    }
   ],
   "source": [
    "android_clean = []\n",
    "already_added = []\n",
    "\n",
    "for app in android_apps:\n",
    "    name = app[0]\n",
    "    n_reviews = float(app[3])\n",
    "    if (n_reviews == reviews_max[name]) and (name not in already_added):\n",
    "        android_clean.append(app)\n",
    "        already_added.append(name)\n",
    "\n",
    "print(len(android_clean))"
   ]
  },
  {
   "cell_type": "markdown",
   "id": "b63e555f-7462-4f25-b906-832b7d1f44a5",
   "metadata": {},
   "source": [
    "I created two empty lists: `android_clean` to store the cleaned dataset and `already_added` to track app names already included. I looped through the dataset again and added a row to `android_clean` only if its number of reviews matched the maximum value for that app and the app was not already in already_added. This ensured that only one entry per app was kept. The cleaned dataset length is 9659, confirming that all duplicates were removed."
   ]
  },
  {
   "cell_type": "markdown",
   "id": "4f3aed4f-4e0a-49a0-9691-380ad161fe7e",
   "metadata": {},
   "source": [
    "I will now display part of the cleaned dataset to check its structure and verify the contents."
   ]
  },
  {
   "cell_type": "code",
   "execution_count": 13,
   "id": "1764e7f1-b247-44ca-963a-0cc336608fce",
   "metadata": {},
   "outputs": [
    {
     "name": "stdout",
     "output_type": "stream",
     "text": [
      "['Photo Editor & Candy Camera & Grid & ScrapBook', 'ART_AND_DESIGN', '4.1', '159', '19M', '10,000+', 'Free', '0', 'Everyone', 'Art & Design', 'January 7, 2018', '1.0.0', '4.0.3 and up']\n",
      "\n",
      "\n",
      "['U Launcher Lite – FREE Live Cool Themes, Hide Apps', 'ART_AND_DESIGN', '4.7', '87510', '8.7M', '5,000,000+', 'Free', '0', 'Everyone', 'Art & Design', 'August 1, 2018', '1.2.4', '4.0.3 and up']\n",
      "\n",
      "\n",
      "['Sketch - Draw & Paint', 'ART_AND_DESIGN', '4.5', '215644', '25M', '50,000,000+', 'Free', '0', 'Teen', 'Art & Design', 'June 8, 2018', 'Varies with device', '4.2 and up']\n",
      "\n",
      "\n",
      "Number of rows: 9659\n",
      "Number of columns: 13\n"
     ]
    }
   ],
   "source": [
    "explore_data(android_clean, 0, 3, True)"
   ]
  },
  {
   "cell_type": "markdown",
   "id": "e7970470-76fe-47c5-98d2-55cfbbdaa207",
   "metadata": {},
   "source": [
    "The dataset contains 9659 rows and 13 columns, confirming that each app has only one entry and all rows are complete."
   ]
  },
  {
   "cell_type": "markdown",
   "id": "3cba29e1-bdb7-4199-864b-3feb9e23573f",
   "metadata": {},
   "source": [
    "## Removing Non-English Apps"
   ]
  },
  {
   "cell_type": "markdown",
   "id": "0735d39d-47d2-4c74-8966-f0baf2e13103",
   "metadata": {},
   "source": [
    "In the previous step I removed duplicate app entries from the Google Play dataset. I will now remove apps that are not intended for an English-speaking audience. I will keep only apps with names containing characters from the standard ASCII range of 0 to 127, which includes letters, numbers, common punctuation, and basic symbols used in English."
   ]
  },
  {
   "cell_type": "markdown",
   "id": "979ba889-7e7a-49d8-94c7-79cf5b50e6de",
   "metadata": {},
   "source": [
    "I will create a function that checks whether a string contains only common English characters by verifying that each character’s [ASCII](https://en.wikipedia.org/wiki/ASCII) value is 127 or less. If any character has a value greater than 127, the function will return False."
   ]
  },
  {
   "cell_type": "code",
   "execution_count": 14,
   "id": "090d5c4d-8351-41d9-b934-2176d5663085",
   "metadata": {},
   "outputs": [
    {
     "name": "stdout",
     "output_type": "stream",
     "text": [
      "True\n",
      "False\n",
      "False\n"
     ]
    }
   ],
   "source": [
    "def eng_checker(string):\n",
    "    for char in string:\n",
    "        if ord(char) > 127:\n",
    "            return False    \n",
    "    return True\n",
    "\n",
    "print(eng_checker('Instagram'))\n",
    "print(eng_checker('爱奇艺PPS -《欢乐颂2》电视剧热播'))\n",
    "print(eng_checker('Instachat 😜'))"
   ]
  },
  {
   "cell_type": "markdown",
   "id": "359d3633-9110-4955-88af-57c4f843a327",
   "metadata": {},
   "source": [
    "The result is that `eng_checker('Instagram')` returns True, indicating it is English. `eng_checker('爱奇艺PPS -《欢乐颂2》电视剧热播')` returns False, indicating it is non-English. `eng_checker('Instachat 😜')` also returns False because the emoji character has an ASCII value greater than 127, so the function incorrectly flags it as non-English."
   ]
  },
  {
   "cell_type": "markdown",
   "id": "103d22fc-381d-42d3-a911-b8202a973bfe",
   "metadata": {},
   "source": [
    "I will modify the `eng_checker` function to reduce the loss of valid English apps that contain a small number of special characters or emojis. Instead of returning False when it finds a single character outside the ASCII range, the function will now count these characters and only return False if there are more than three of them."
   ]
  },
  {
   "cell_type": "code",
   "execution_count": 15,
   "id": "dd0965e4-8951-45fa-a845-a73922f1b46a",
   "metadata": {},
   "outputs": [
    {
     "name": "stdout",
     "output_type": "stream",
     "text": [
      "True\n",
      "False\n",
      "True\n"
     ]
    }
   ],
   "source": [
    "def eng_checker(string):\n",
    "    limit = 0\n",
    "    for char in string:\n",
    "        if ord(char) > 127:\n",
    "            limit += 1\n",
    "    if limit > 3:\n",
    "        return False\n",
    "    else:\n",
    "        return True\n",
    "\n",
    "print(eng_checker('Instagram'))\n",
    "print(eng_checker('爱奇艺PPS -《欢乐颂2》电视剧热播'))\n",
    "print(eng_checker('Instachat 😜'))"
   ]
  },
  {
   "cell_type": "markdown",
   "id": "603b5043-5ec3-4fd9-9f1e-01698099d9a6",
   "metadata": {},
   "source": [
    "After modifying the function, `eng_checker('Instagram')` returns True because all characters are within the ASCII range, `eng_checker('爱奇艺PPS -《欢乐颂2》电视剧热播')` returns False because it contains more than three characters outside the ASCII range, and `eng_checker('Instachat 😜')` returns True because the single emoji is allowed under the limit of three non-ASCII characters."
   ]
  },
  {
   "cell_type": "markdown",
   "id": "e04b97e2-b93c-405e-a7ae-68991ddbded5",
   "metadata": {},
   "source": [
    "I will use the updated `eng_checker`function to filter out non-English apps from both datasets. For each dataset, I will loop through the rows and check if the app name is identified as English. If it is, I will append the entire row to a new list that will store only English apps."
   ]
  },
  {
   "cell_type": "code",
   "execution_count": 16,
   "id": "b864c7f8-ad00-494b-8e23-12c2483bdce1",
   "metadata": {},
   "outputs": [
    {
     "name": "stdout",
     "output_type": "stream",
     "text": [
      "App Store Dataset: 6183\n",
      "Google Play Dataset: 9614\n"
     ]
    }
   ],
   "source": [
    "ios_eng = []\n",
    "android_eng = []\n",
    "\n",
    "for app in ios_apps:\n",
    "    name = eng_checker(app[1])\n",
    "    if name:\n",
    "        ios_eng.append(app)\n",
    "\n",
    "for app in android_clean:\n",
    "    name = eng_checker(app[0])\n",
    "    if name:\n",
    "        android_eng.append(app)\n",
    "\n",
    "print('App Store Dataset:', len(ios_eng))\n",
    "print('Google Play Dataset:', len(android_eng))"
   ]
  },
  {
   "cell_type": "markdown",
   "id": "43b98a7e-1327-4ca0-96be-a993c36c1fef",
   "metadata": {},
   "source": [
    "After running the code, the App Store dataset contains 6183 English apps and the Google Play dataset contains 9614 English apps."
   ]
  },
  {
   "cell_type": "markdown",
   "id": "7f7083fc-0f3e-4967-8403-e47bfd7defbd",
   "metadata": {},
   "source": [
    "## Isolating the Free Apps"
   ]
  },
  {
   "cell_type": "markdown",
   "id": "04f5c49a-600c-42d0-b196-84d17e29a046",
   "metadata": {},
   "source": [
    "So far in the data cleaning process I have removed inaccurate data, removed duplicate entries, and removed non-English apps. The final cleaning step is to isolate only the free apps. This is because the analysis will focus on apps that are free to download and install, where revenue is generated mainly through in-app ads."
   ]
  },
  {
   "cell_type": "markdown",
   "id": "d1279492-9d60-43a3-851e-8f6d1139175d",
   "metadata": {},
   "source": [
    "I will loop through each dataset, check the value in the price column, and append the row to a new list if the price is zero."
   ]
  },
  {
   "cell_type": "code",
   "execution_count": 17,
   "id": "49f72df9-57a0-4653-bf2b-1601d1b81a85",
   "metadata": {},
   "outputs": [
    {
     "name": "stdout",
     "output_type": "stream",
     "text": [
      "Free iOS Apps: 3222\n",
      "Free Android Apps: 8864\n"
     ]
    }
   ],
   "source": [
    "ios_free = []\n",
    "android_free = []\n",
    "\n",
    "for app in ios_eng:\n",
    "    price = app[4]\n",
    "    if price == '0.0':\n",
    "        ios_free.append(app)\n",
    "\n",
    "for app in android_eng:\n",
    "    price = app[7]\n",
    "    if price == '0':\n",
    "        android_free.append(app)\n",
    "\n",
    "print('Free iOS Apps:', len(ios_free))\n",
    "print('Free Android Apps:', len(android_free))"
   ]
  },
  {
   "cell_type": "markdown",
   "id": "70276f4b-609b-485c-9e76-7dce0849dc96",
   "metadata": {},
   "source": [
    "After filtering, the App Store dataset contains 3222 free apps and the Google Play dataset contains 8864 free apps."
   ]
  },
  {
   "cell_type": "markdown",
   "id": "1363d2ee-d80a-4552-a246-fe4c84b99afb",
   "metadata": {},
   "source": [
    "## Most Common Apps by Genre"
   ]
  },
  {
   "cell_type": "markdown",
   "id": "c8cf6b5e-e63c-463a-8164-51f4e9ff57f2",
   "metadata": {},
   "source": [
    "Up to this point I have cleaned the datasets by removing inaccurate data, removing duplicate app entries, removing non-English apps, and isolating the free apps. The next step is to start analyzing the data to identify the kinds of apps that are likely to attract more users, since higher user numbers can increase revenue.\n",
    "\n",
    "The validation strategy for an app idea follows three steps. First, build a minimal Android version of the app and release it on Google Play. If it receives a good response from users, develop it further. If it becomes profitable after six months, create an iOS version and release it on the App Store.\n",
    "\n",
    "Since the final goal is to release the app on both platforms, I will look for app profiles that perform well in both markets. To start, I will examine the most common genres for each market by building a frequency table for the `prime_genre` column of the App Store dataset and the `Genres` and `Category` columns of the Google Play dataset."
   ]
  },
  {
   "cell_type": "markdown",
   "id": "93c314c6-8734-425b-91b0-009065f186d2",
   "metadata": {},
   "source": [
    "I will create a function named `freq_table()` that generates a frequency table for any column in a dataset, expressed as percentages. The function takes a dataset (list of lists) and an index (integer) as parameters. It counts the occurrences of each unique value in the specified column, calculates the percentage for each value, and returns a dictionary with these percentages."
   ]
  },
  {
   "cell_type": "code",
   "execution_count": 18,
   "id": "a866834f-9a6f-487e-9cad-0fe5e536b7e2",
   "metadata": {},
   "outputs": [],
   "source": [
    "def freq_table(dataset, index):\n",
    "    ft = {}\n",
    "    total = 0\n",
    "    for row in dataset:\n",
    "        total +=1\n",
    "        row_index = row[index]\n",
    "        if row_index in ft:\n",
    "            ft[row_index] += 1\n",
    "        else:\n",
    "            ft[row_index] = 1\n",
    "            \n",
    "    percentages = {}\n",
    "    for key in ft:\n",
    "        percentage = (ft[key] / total) * 100\n",
    "        percentages[key] = round(percentage, 2)\n",
    "        \n",
    "    return percentages"
   ]
  },
  {
   "cell_type": "markdown",
   "id": "1bae00b7-22c6-4357-9eb5-192c131ee571",
   "metadata": {},
   "source": [
    "I will also use a helper function named `display_table()` to sort and display the frequency table in descending order. This function calls `freq_table()` to generate the table, converts it into a list of tuples with the percentage first and the category second, sorts the list in reverse order, and prints the results."
   ]
  },
  {
   "cell_type": "code",
   "execution_count": 19,
   "id": "73726270-aee1-4604-9a26-89622608a6b5",
   "metadata": {},
   "outputs": [],
   "source": [
    "def display_table(dataset, index):\n",
    "    table = freq_table(dataset, index)\n",
    "    table_display = []\n",
    "    for key in table:\n",
    "        key_val_as_tuple = (table[key], key)\n",
    "        table_display.append(key_val_as_tuple)\n",
    "\n",
    "    table_sorted = sorted(table_display, reverse = True)\n",
    "    for entry in table_sorted:\n",
    "        print(entry[1], ':', entry[0])"
   ]
  },
  {
   "cell_type": "markdown",
   "id": "d7aa059f-1c4f-4152-9b1c-f174c5fff62b",
   "metadata": {},
   "source": [
    "These two functions together allow me to quickly generate and view ordered frequency tables for columns like `prime_genre` in the App Store dataset and `Genres` or `Category` in the Google Play dataset."
   ]
  },
  {
   "cell_type": "markdown",
   "id": "f4dfd71d-00de-4286-b4f4-4a7ff5453d74",
   "metadata": {},
   "source": [
    "I will use the `display_table()` function to view the distribution of app genres in the App Store dataset. I will pass `ios_free` as the dataset and use index 11, which corresponds to the `prime_genre` column."
   ]
  },
  {
   "cell_type": "code",
   "execution_count": 20,
   "id": "4bb48f7f-da9c-4ebb-ab79-f07e07f8b6d2",
   "metadata": {},
   "outputs": [
    {
     "name": "stdout",
     "output_type": "stream",
     "text": [
      "Games : 58.16\n",
      "Entertainment : 7.88\n",
      "Photo & Video : 4.97\n",
      "Education : 3.66\n",
      "Social Networking : 3.29\n",
      "Shopping : 2.61\n",
      "Utilities : 2.51\n",
      "Sports : 2.14\n",
      "Music : 2.05\n",
      "Health & Fitness : 2.02\n",
      "Productivity : 1.74\n",
      "Lifestyle : 1.58\n",
      "News : 1.33\n",
      "Travel : 1.24\n",
      "Finance : 1.12\n",
      "Weather : 0.87\n",
      "Food & Drink : 0.81\n",
      "Reference : 0.56\n",
      "Business : 0.53\n",
      "Book : 0.43\n",
      "Navigation : 0.19\n",
      "Medical : 0.19\n",
      "Catalogs : 0.12\n"
     ]
    }
   ],
   "source": [
    "display_table(ios_free, 11)"
   ]
  },
  {
   "cell_type": "markdown",
   "id": "c57c6e59-b9bc-4d37-8bad-bbe97e1d118b",
   "metadata": {},
   "source": [
    "The output shows that `Games` is the dominant genre, making up 58.16% of free English apps in the App Store. `Entertainment` is a distant second at 7.88%, followed by `Photo & Video` and `Education`. Most of the apps appear to be designed for entertainment rather than practical use."
   ]
  },
  {
   "cell_type": "markdown",
   "id": "1fd0d4a4-8b8b-4c0d-8d95-306ed72c5d22",
   "metadata": {},
   "source": [
    "Next, I examine the `Category` column in the Google Play dataset by calling `display_table()` on `android_free` using index 1."
   ]
  },
  {
   "cell_type": "code",
   "execution_count": 21,
   "id": "164295cb-2cd6-45ed-92c8-30b899ecf3e3",
   "metadata": {},
   "outputs": [
    {
     "name": "stdout",
     "output_type": "stream",
     "text": [
      "FAMILY : 18.91\n",
      "GAME : 9.72\n",
      "TOOLS : 8.46\n",
      "BUSINESS : 4.59\n",
      "LIFESTYLE : 3.9\n",
      "PRODUCTIVITY : 3.89\n",
      "FINANCE : 3.7\n",
      "MEDICAL : 3.53\n",
      "SPORTS : 3.4\n",
      "PERSONALIZATION : 3.32\n",
      "COMMUNICATION : 3.24\n",
      "HEALTH_AND_FITNESS : 3.08\n",
      "PHOTOGRAPHY : 2.94\n",
      "NEWS_AND_MAGAZINES : 2.8\n",
      "SOCIAL : 2.66\n",
      "TRAVEL_AND_LOCAL : 2.34\n",
      "SHOPPING : 2.25\n",
      "BOOKS_AND_REFERENCE : 2.14\n",
      "DATING : 1.86\n",
      "VIDEO_PLAYERS : 1.79\n",
      "MAPS_AND_NAVIGATION : 1.4\n",
      "FOOD_AND_DRINK : 1.24\n",
      "EDUCATION : 1.16\n",
      "ENTERTAINMENT : 0.96\n",
      "LIBRARIES_AND_DEMO : 0.94\n",
      "AUTO_AND_VEHICLES : 0.93\n",
      "HOUSE_AND_HOME : 0.82\n",
      "WEATHER : 0.8\n",
      "EVENTS : 0.71\n",
      "PARENTING : 0.65\n",
      "ART_AND_DESIGN : 0.64\n",
      "COMICS : 0.62\n",
      "BEAUTY : 0.6\n"
     ]
    }
   ],
   "source": [
    "display_table(android_free, 1) #Category"
   ]
  },
  {
   "cell_type": "markdown",
   "id": "570d8a9c-f89e-4a29-a7f1-7efd66219a91",
   "metadata": {},
   "source": [
    "The most common categories are `FAMILY` (18.91%), `GAME` (9.72%), and `TOOLS` (8.46%). Many categories are related to practical use, but entertainment-related categories are also present. The distribution is more balanced than in the App Store."
   ]
  },
  {
   "cell_type": "markdown",
   "id": "1be20fbf-48c5-42b8-93d3-5bfc6a4f9eda",
   "metadata": {},
   "source": [
    "To get a more detailed breakdown, I will also check the `Genres` column (index 9) in the same dataset."
   ]
  },
  {
   "cell_type": "code",
   "execution_count": 22,
   "id": "9943195b-3d57-4eb2-92ce-90bec99fdad7",
   "metadata": {},
   "outputs": [
    {
     "name": "stdout",
     "output_type": "stream",
     "text": [
      "Tools : 8.45\n",
      "Entertainment : 6.07\n",
      "Education : 5.35\n",
      "Business : 4.59\n",
      "Productivity : 3.89\n",
      "Lifestyle : 3.89\n",
      "Finance : 3.7\n",
      "Medical : 3.53\n",
      "Sports : 3.46\n",
      "Personalization : 3.32\n",
      "Communication : 3.24\n",
      "Action : 3.1\n",
      "Health & Fitness : 3.08\n",
      "Photography : 2.94\n",
      "News & Magazines : 2.8\n",
      "Social : 2.66\n",
      "Travel & Local : 2.32\n",
      "Shopping : 2.25\n",
      "Books & Reference : 2.14\n",
      "Simulation : 2.04\n",
      "Dating : 1.86\n",
      "Arcade : 1.85\n",
      "Video Players & Editors : 1.77\n",
      "Casual : 1.76\n",
      "Maps & Navigation : 1.4\n",
      "Food & Drink : 1.24\n",
      "Puzzle : 1.13\n",
      "Racing : 0.99\n",
      "Role Playing : 0.94\n",
      "Libraries & Demo : 0.94\n",
      "Auto & Vehicles : 0.93\n",
      "Strategy : 0.91\n",
      "House & Home : 0.82\n",
      "Weather : 0.8\n",
      "Events : 0.71\n",
      "Adventure : 0.68\n",
      "Comics : 0.61\n",
      "Beauty : 0.6\n",
      "Art & Design : 0.6\n",
      "Parenting : 0.5\n",
      "Card : 0.45\n",
      "Casino : 0.43\n",
      "Trivia : 0.42\n",
      "Educational;Education : 0.39\n",
      "Board : 0.38\n",
      "Educational : 0.37\n",
      "Education;Education : 0.34\n",
      "Word : 0.26\n",
      "Casual;Pretend Play : 0.24\n",
      "Music : 0.2\n",
      "Racing;Action & Adventure : 0.17\n",
      "Puzzle;Brain Games : 0.17\n",
      "Entertainment;Music & Video : 0.17\n",
      "Casual;Brain Games : 0.14\n",
      "Casual;Action & Adventure : 0.14\n",
      "Arcade;Action & Adventure : 0.12\n",
      "Action;Action & Adventure : 0.1\n",
      "Educational;Pretend Play : 0.09\n",
      "Simulation;Action & Adventure : 0.08\n",
      "Parenting;Education : 0.08\n",
      "Entertainment;Brain Games : 0.08\n",
      "Board;Brain Games : 0.08\n",
      "Parenting;Music & Video : 0.07\n",
      "Educational;Brain Games : 0.07\n",
      "Casual;Creativity : 0.07\n",
      "Art & Design;Creativity : 0.07\n",
      "Education;Pretend Play : 0.06\n",
      "Role Playing;Pretend Play : 0.05\n",
      "Education;Creativity : 0.05\n",
      "Role Playing;Action & Adventure : 0.03\n",
      "Puzzle;Action & Adventure : 0.03\n",
      "Entertainment;Creativity : 0.03\n",
      "Entertainment;Action & Adventure : 0.03\n",
      "Educational;Creativity : 0.03\n",
      "Educational;Action & Adventure : 0.03\n",
      "Education;Music & Video : 0.03\n",
      "Education;Brain Games : 0.03\n",
      "Education;Action & Adventure : 0.03\n",
      "Adventure;Action & Adventure : 0.03\n",
      "Video Players & Editors;Music & Video : 0.02\n",
      "Sports;Action & Adventure : 0.02\n",
      "Simulation;Pretend Play : 0.02\n",
      "Puzzle;Creativity : 0.02\n",
      "Music;Music & Video : 0.02\n",
      "Entertainment;Pretend Play : 0.02\n",
      "Casual;Education : 0.02\n",
      "Board;Action & Adventure : 0.02\n",
      "Video Players & Editors;Creativity : 0.01\n",
      "Trivia;Education : 0.01\n",
      "Travel & Local;Action & Adventure : 0.01\n",
      "Tools;Education : 0.01\n",
      "Strategy;Education : 0.01\n",
      "Strategy;Creativity : 0.01\n",
      "Strategy;Action & Adventure : 0.01\n",
      "Simulation;Education : 0.01\n",
      "Role Playing;Brain Games : 0.01\n",
      "Racing;Pretend Play : 0.01\n",
      "Puzzle;Education : 0.01\n",
      "Parenting;Brain Games : 0.01\n",
      "Music & Audio;Music & Video : 0.01\n",
      "Lifestyle;Pretend Play : 0.01\n",
      "Lifestyle;Education : 0.01\n",
      "Health & Fitness;Education : 0.01\n",
      "Health & Fitness;Action & Adventure : 0.01\n",
      "Entertainment;Education : 0.01\n",
      "Communication;Creativity : 0.01\n",
      "Comics;Creativity : 0.01\n",
      "Casual;Music & Video : 0.01\n",
      "Card;Action & Adventure : 0.01\n",
      "Books & Reference;Education : 0.01\n",
      "Art & Design;Pretend Play : 0.01\n",
      "Art & Design;Action & Adventure : 0.01\n",
      "Arcade;Pretend Play : 0.01\n",
      "Adventure;Education : 0.01\n"
     ]
    }
   ],
   "source": [
    "display_table(android_free, 9) #Genres"
   ]
  },
  {
   "cell_type": "markdown",
   "id": "bd9f1831-c64a-4b2b-b517-a842ff69f047",
   "metadata": {},
   "source": [
    "`Tools` is the top genre at 8.45%, followed by `Entertainment` at 6.07% and `Education` at 5.35%. The genre distribution is highly varied, with many categories appearing in small percentages. This fragmentation suggests there may be opportunities in underrepresented practical genres like `Education` or `Productivity`, where competition is lower but user demand still exists."
   ]
  },
  {
   "cell_type": "markdown",
   "id": "7a227c07-e2ba-42fb-9749-792e06a1acd3",
   "metadata": {},
   "source": [
    "## Most Popular Apps by Genre on the App Store"
   ]
  },
  {
   "cell_type": "markdown",
   "id": "b4c79816-2a31-42df-bf89-a9d769cfb4e5",
   "metadata": {},
   "source": [
    "So far I looked at which genres are most common in the App Store. Now I want to understand which genres are the most popular in terms of user engagement. Since the App Store dataset does not include install numbers, I will use the total number of user ratings (`rating_count_tot`) as a proxy for measuring popularity."
   ]
  },
  {
   "cell_type": "markdown",
   "id": "c169cb76-b15c-484a-a969-2fac3938765c",
   "metadata": {},
   "source": [
    "To do this, I will calculate the average number of user ratings for each genre. This will help identify which types of apps attract more attention from users and may guide the selection of a genre with higher engagement potential.\n",
    "\n",
    "First, I will generate a frequency table from the `prime_genre` column to get the unique genres. Then I will loop through each genre and use a nested loop to isolate the apps belonging to that genre, sum their user ratings, and count how many apps fall under that category. Finally, I will calculate the average number of user ratings by dividing the total by the number of apps in that genre."
   ]
  },
  {
   "cell_type": "code",
   "execution_count": 23,
   "id": "d9f78831-2928-4c14-9dec-9d5d46da0315",
   "metadata": {},
   "outputs": [
    {
     "name": "stdout",
     "output_type": "stream",
     "text": [
      "Social Networking : 71548.35\n",
      "Photo & Video : 28441.54\n",
      "Games : 22788.67\n",
      "Music : 57326.53\n",
      "Reference : 74942.11\n",
      "Health & Fitness : 23298.02\n",
      "Weather : 52279.89\n",
      "Utilities : 18684.46\n",
      "Travel : 28243.8\n",
      "Shopping : 26919.69\n",
      "News : 21248.02\n",
      "Navigation : 86090.33\n",
      "Lifestyle : 16485.76\n",
      "Entertainment : 14029.83\n",
      "Food & Drink : 33333.92\n",
      "Sports : 23008.9\n",
      "Book : 39758.5\n",
      "Finance : 31467.94\n",
      "Education : 7003.98\n",
      "Productivity : 21028.41\n",
      "Business : 7491.12\n",
      "Catalogs : 4004.0\n",
      "Medical : 612.0\n"
     ]
    }
   ],
   "source": [
    "ios_ft = freq_table(ios_free, 11)\n",
    "\n",
    "for genre in ios_ft:\n",
    "    total = 0\n",
    "    len_genre = 0\n",
    "    for row in ios_free:\n",
    "        genre_app = row[11]\n",
    "        user_ratings = float(row[5])\n",
    "        if genre_app == genre:\n",
    "            total += user_ratings\n",
    "            len_genre += 1\n",
    "    avg_ratings = round((total / len_genre), 2)\n",
    "    print(genre, ':', avg_ratings)"
   ]
  },
  {
   "cell_type": "markdown",
   "id": "721dc9a5-2bc5-4faa-ab55-aa37aebb6ca5",
   "metadata": {},
   "source": [
    "The results show that `Navigation`, `Reference`, and `Social Networking` have the highest average user ratings, indicating that these genres attract more engagement per app. This suggests there may be potential in targeting high-utility or information-focused genres, even though they are less common in the store overall."
   ]
  },
  {
   "cell_type": "markdown",
   "id": "00eecb6e-1133-4e7c-884a-e12c808480c8",
   "metadata": {},
   "source": [
    "To understand why certain genres have high average user ratings, I will inspect the apps in the top three genres: `Navigation`, `Reference`, and `Social Networking`. This will help assess whether the high ratings reflect strong user engagement or are driven by a few standout apps."
   ]
  },
  {
   "cell_type": "code",
   "execution_count": 24,
   "id": "6b01a1cc-707f-422a-a41d-5ae0a4b38363",
   "metadata": {},
   "outputs": [
    {
     "name": "stdout",
     "output_type": "stream",
     "text": [
      "Waze - GPS Navigation, Maps & Real-time Traffic : 345046\n",
      "Google Maps - Navigation & Transit : 154911\n",
      "Geocaching® : 12811\n",
      "CoPilot GPS – Car Navigation & Offline Maps : 3582\n",
      "ImmobilienScout24: Real Estate Search in Germany : 187\n",
      "Railway Route Search : 5\n"
     ]
    }
   ],
   "source": [
    "for app in ios_free:\n",
    "    if app[11] == 'Navigation':\n",
    "        print(app[1], ':', app [5])"
   ]
  },
  {
   "cell_type": "code",
   "execution_count": 25,
   "id": "dab2f6c4-f8e2-4fbc-b93f-7f6f73e56309",
   "metadata": {},
   "outputs": [
    {
     "name": "stdout",
     "output_type": "stream",
     "text": [
      "Bible : 985920\n",
      "Dictionary.com Dictionary & Thesaurus : 200047\n",
      "Dictionary.com Dictionary & Thesaurus for iPad : 54175\n",
      "Google Translate : 26786\n",
      "Muslim Pro: Ramadan 2017 Prayer Times, Azan, Quran : 18418\n",
      "New Furniture Mods - Pocket Wiki & Game Tools for Minecraft PC Edition : 17588\n",
      "Merriam-Webster Dictionary : 16849\n",
      "Night Sky : 12122\n",
      "City Maps for Minecraft PE - The Best Maps for Minecraft Pocket Edition (MCPE) : 8535\n",
      "LUCKY BLOCK MOD ™ for Minecraft PC Edition - The Best Pocket Wiki & Mods Installer Tools : 4693\n",
      "GUNS MODS for Minecraft PC Edition - Mods Tools : 1497\n",
      "Guides for Pokémon GO - Pokemon GO News and Cheats : 826\n",
      "WWDC : 762\n",
      "Horror Maps for Minecraft PE - Download The Scariest Maps for Minecraft Pocket Edition (MCPE) Free : 718\n",
      "VPN Express : 14\n",
      "Real Bike Traffic Rider Virtual Reality Glasses : 8\n",
      "教えて!goo : 0\n",
      "Jishokun-Japanese English Dictionary & Translator : 0\n"
     ]
    }
   ],
   "source": [
    "for app in ios_free:\n",
    "    if app[11] == 'Reference':\n",
    "        print(app[1], ':', app [5])"
   ]
  },
  {
   "cell_type": "code",
   "execution_count": 26,
   "id": "92ed8686-b6c5-4856-90c9-9b0e342d2933",
   "metadata": {},
   "outputs": [
    {
     "name": "stdout",
     "output_type": "stream",
     "text": [
      "Facebook : 2974676\n",
      "Pinterest : 1061624\n",
      "Skype for iPhone : 373519\n",
      "Messenger : 351466\n",
      "Tumblr : 334293\n",
      "WhatsApp Messenger : 287589\n",
      "Kik : 260965\n",
      "ooVoo – Free Video Call, Text and Voice : 177501\n",
      "TextNow - Unlimited Text + Calls : 164963\n",
      "Viber Messenger – Text & Call : 164249\n",
      "Followers - Social Analytics For Instagram : 112778\n",
      "MeetMe - Chat and Meet New People : 97072\n",
      "We Heart It - Fashion, wallpapers, quotes, tattoos : 90414\n",
      "InsTrack for Instagram - Analytics Plus More : 85535\n",
      "Tango - Free Video Call, Voice and Chat : 75412\n",
      "LinkedIn : 71856\n",
      "Match™ - #1 Dating App. : 60659\n",
      "Skype for iPad : 60163\n",
      "POF - Best Dating App for Conversations : 52642\n",
      "Timehop : 49510\n",
      "Find My Family, Friends & iPhone - Life360 Locator : 43877\n",
      "Whisper - Share, Express, Meet : 39819\n",
      "Hangouts : 36404\n",
      "LINE PLAY - Your Avatar World : 34677\n",
      "WeChat : 34584\n",
      "Badoo - Meet New People, Chat, Socialize. : 34428\n",
      "Followers + for Instagram - Follower Analytics : 28633\n",
      "GroupMe : 28260\n",
      "Marco Polo Video Walkie Talkie : 27662\n",
      "Miitomo : 23965\n",
      "SimSimi : 23530\n",
      "Grindr - Gay and same sex guys chat, meet and date : 23201\n",
      "Wishbone - Compare Anything : 20649\n",
      "imo video calls and chat : 18841\n",
      "After School - Funny Anonymous School News : 18482\n",
      "Quick Reposter - Repost, Regram and Reshare Photos : 17694\n",
      "Weibo HD : 16772\n",
      "Repost for Instagram : 15185\n",
      "Live.me – Live Video Chat & Make Friends Nearby : 14724\n",
      "Nextdoor : 14402\n",
      "Followers Analytics for Instagram - InstaReport : 13914\n",
      "YouNow: Live Stream Video Chat : 12079\n",
      "FollowMeter for Instagram - Followers Tracking : 11976\n",
      "LINE : 11437\n",
      "eHarmony™ Dating App - Meet Singles : 11124\n",
      "Discord - Chat for Gamers : 9152\n",
      "QQ : 9109\n",
      "Telegram Messenger : 7573\n",
      "Weibo : 7265\n",
      "Periscope - Live Video Streaming Around the World : 6062\n",
      "Chat for Whatsapp - iPad Version : 5060\n",
      "QQ HD : 5058\n",
      "Followers Analysis Tool For Instagram App Free : 4253\n",
      "live.ly - live video streaming : 4145\n",
      "Houseparty - Group Video Chat : 3991\n",
      "SOMA Messenger : 3232\n",
      "Monkey : 3060\n",
      "Down To Lunch : 2535\n",
      "Flinch - Video Chat Staring Contest : 2134\n",
      "Highrise - Your Avatar Community : 2011\n",
      "LOVOO - Dating Chat : 1985\n",
      "PlayStation®Messages : 1918\n",
      "BOO! - Video chat camera with filters & stickers : 1805\n",
      "Qzone : 1649\n",
      "Chatous - Chat with new people : 1609\n",
      "Kiwi - Q&A : 1538\n",
      "GhostCodes - a discovery app for Snapchat : 1313\n",
      "Jodel : 1193\n",
      "FireChat : 1037\n",
      "Google Duo - simple video calling : 1033\n",
      "Fiesta by Tango - Chat & Meet New People : 885\n",
      "Google Allo — smart messaging : 862\n",
      "Peach — share vividly : 727\n",
      "Hey! VINA - Where Women Meet New Friends : 719\n",
      "Battlefield™ Companion : 689\n",
      "All Devices for WhatsApp - Messenger for iPad : 682\n",
      "Chat for Pokemon Go - GoChat : 500\n",
      "IAmNaughty – Dating App to Meet New People Online : 463\n",
      "Qzone HD : 458\n",
      "Zenly - Locate your friends in realtime : 427\n",
      "League of Legends Friends : 420\n",
      "豆瓣 : 407\n",
      "Candid - Speak Your Mind Freely : 398\n",
      "知乎 : 397\n",
      "Selfeo : 366\n",
      "Fake-A-Location Free ™ : 354\n",
      "Popcorn Buzz - Free Group Calls : 281\n",
      "Fam — Group video calling for iMessage : 279\n",
      "QQ International : 274\n",
      "Ameba : 269\n",
      "SoundCloud Pulse: for creators : 240\n",
      "Tantan : 235\n",
      "Cougar Dating & Life Style App for Mature Women : 213\n",
      "Rawr Messenger - Dab your chat : 180\n",
      "WhenToPost: Best Time to Post Photos for Instagram : 158\n",
      "Inke—Broadcast an amazing life : 147\n",
      "Mustknow - anonymous video Q&A : 53\n",
      "CTFxCmoji : 39\n",
      "Lobi : 36\n",
      "Chain: Collaborate On MyVideo Story/Group Video : 35\n",
      "botman - Real time video chat : 7\n",
      "BestieBox : 0\n",
      "MATCH ON LINE chat : 0\n",
      "niconico ch : 0\n",
      "LINE BLOG : 0\n",
      "bit-tube - Live Stream Video Chat : 0\n"
     ]
    }
   ],
   "source": [
    "for app in ios_free:\n",
    "    if app[11] == 'Social Networking':\n",
    "        print(app[1], ':', app [5])"
   ]
  },
  {
   "cell_type": "markdown",
   "id": "20f685d3-67df-45fe-8aee-525bb7d23e04",
   "metadata": {},
   "source": [
    "I started with `Navigation` because it had the highest average number of ratings. Most apps here are well-known utilities like Google Maps or Waze, which are already dominant. These are hard to compete with unless we offer a very specific niche or region-based service.\n",
    "\n",
    "Then I looked at `Reference` apps. While this genre also shows high engagement, the list is heavily skewed by a few popular dictionary and Bible apps. Some of the engagement is also driven by Minecraft-related tools, which may not reflect general demand. Still, this could offer opportunities for targeted educational or utility content.\n",
    "\n",
    "`Social Networking` also has high engagement but is completely dominated by giants like Facebook, Kik, and WhatsApp. This space is highly saturated and competitive, making it difficult for new apps to break through without a unique value proposition.\n",
    "\n",
    "Out of the three, `Reference` looks like a more realistic area to explore. It has high user engagement without being completely locked by dominant players. A focused, well-designed reference app for a specific audience could potentially stand out."
   ]
  },
  {
   "cell_type": "markdown",
   "id": "d7a79486-82b0-4e43-be18-c58a22e2682a",
   "metadata": {},
   "source": [
    "## Most Popular Apps by Genre on Google Play"
   ]
  },
  {
   "cell_type": "markdown",
   "id": "d9a71052-726a-4aab-9d0d-03c3ead2060e",
   "metadata": {},
   "source": [
    "Now I want to find out which app genres actually attract the most users on Google Play. Instead of just knowing which categories are common, I want to know which ones get the most engagement. That means looking at how many people are installing apps in each category."
   ]
  },
  {
   "cell_type": "markdown",
   "id": "7fb35948-0b09-4279-84c0-510699406562",
   "metadata": {},
   "source": [
    "To do this, I loop through each app category, collect the total number of installs, and divide by the number of apps to get the average installs per category. Since the install numbers are formatted as strings with \"+\" and \",\" characters, I remove those and convert the values to floats before doing any math."
   ]
  },
  {
   "cell_type": "code",
   "execution_count": 27,
   "id": "52fe4d75-856e-4940-857b-e24984b77572",
   "metadata": {},
   "outputs": [
    {
     "name": "stdout",
     "output_type": "stream",
     "text": [
      "ART_AND_DESIGN : 1986335.09\n",
      "AUTO_AND_VEHICLES : 647317.82\n",
      "BEAUTY : 513151.89\n",
      "BOOKS_AND_REFERENCE : 8767811.89\n",
      "BUSINESS : 1712290.15\n",
      "COMICS : 817657.27\n",
      "COMMUNICATION : 38456119.17\n",
      "DATING : 854028.83\n",
      "EDUCATION : 1833495.15\n",
      "ENTERTAINMENT : 11640705.88\n",
      "EVENTS : 253542.22\n",
      "FINANCE : 1387692.48\n",
      "FOOD_AND_DRINK : 1924897.74\n",
      "HEALTH_AND_FITNESS : 4188821.99\n",
      "HOUSE_AND_HOME : 1331540.56\n",
      "LIBRARIES_AND_DEMO : 638503.73\n",
      "LIFESTYLE : 1437816.27\n",
      "GAME : 15588015.6\n",
      "FAMILY : 3695641.82\n",
      "MEDICAL : 120550.62\n",
      "SOCIAL : 23253652.13\n",
      "SHOPPING : 7036877.31\n",
      "PHOTOGRAPHY : 17840110.4\n",
      "SPORTS : 3638640.14\n",
      "TRAVEL_AND_LOCAL : 13984077.71\n",
      "TOOLS : 10801391.3\n",
      "PERSONALIZATION : 5201482.61\n",
      "PRODUCTIVITY : 16787331.34\n",
      "PARENTING : 542603.62\n",
      "WEATHER : 5074486.2\n",
      "VIDEO_PLAYERS : 24727872.45\n",
      "NEWS_AND_MAGAZINES : 9549178.47\n",
      "MAPS_AND_NAVIGATION : 4056941.77\n"
     ]
    }
   ],
   "source": [
    "android_ft = freq_table(android_free, 1)\n",
    "\n",
    "for category in android_ft:\n",
    "    total = 0\n",
    "    len_category = 0\n",
    "    for row in android_free:\n",
    "        category_app = row[1]\n",
    "        installs = row[5]\n",
    "        if category_app == category:\n",
    "            installs = installs.replace('+', '')\n",
    "            installs = installs.replace(',', '')\n",
    "            installs = float(installs)\n",
    "            total += installs\n",
    "            len_category += 1\n",
    "    avg_installs = round((total / len_category), 2)\n",
    "    print(category, ':', avg_installs)"
   ]
  },
  {
   "cell_type": "markdown",
   "id": "f4406395-e30d-4dd6-a39e-01afe6f80416",
   "metadata": {},
   "source": [
    "From the output, it is clear that certain categories on Google Play have very high average install numbers. Categories like `Communication`, `Video Players`, `Social`, and `Productivity` are at the top. However, most of these are dominated by a few major apps, for example, apps like WhatsApp, YouTube, or Facebook, which drive the average up but are not easy to compete with.\n",
    "\n",
    "This makes categories like `Productivity` or `Books and Reference` more interesting. They still have solid average install numbers but are not as dependent on a small number of extremely popular apps. A good idea in one of these categories could have a better chance to get attention and grow."
   ]
  },
  {
   "cell_type": "markdown",
   "id": "0388c9a4-fc86-4f63-8bfa-7ecfdc8b80b6",
   "metadata": {},
   "source": [
    "To better understand what is driving the high average install numbers in the `Communication` category, I filtered for apps with 100 million installs or more. I want to see if a few major players are dominating this category."
   ]
  },
  {
   "cell_type": "code",
   "execution_count": 28,
   "id": "8f022585-c021-4480-a47a-74ccf3076661",
   "metadata": {},
   "outputs": [
    {
     "name": "stdout",
     "output_type": "stream",
     "text": [
      "WhatsApp Messenger : 1,000,000,000+\n",
      "imo beta free calls and text : 100,000,000+\n",
      "Android Messages : 100,000,000+\n",
      "Google Duo - High Quality Video Calls : 500,000,000+\n",
      "Messenger – Text and Video Chat for Free : 1,000,000,000+\n",
      "imo free video calls and chat : 500,000,000+\n",
      "Skype - free IM & video calls : 1,000,000,000+\n",
      "Who : 100,000,000+\n",
      "GO SMS Pro - Messenger, Free Themes, Emoji : 100,000,000+\n",
      "LINE: Free Calls & Messages : 500,000,000+\n",
      "Google Chrome: Fast & Secure : 1,000,000,000+\n",
      "Firefox Browser fast & private : 100,000,000+\n",
      "UC Browser - Fast Download Private & Secure : 500,000,000+\n",
      "Gmail : 1,000,000,000+\n",
      "Hangouts : 1,000,000,000+\n",
      "Messenger Lite: Free Calls & Messages : 100,000,000+\n",
      "Kik : 100,000,000+\n",
      "KakaoTalk: Free Calls & Text : 100,000,000+\n",
      "Opera Mini - fast web browser : 100,000,000+\n",
      "Opera Browser: Fast and Secure : 100,000,000+\n",
      "Telegram : 100,000,000+\n",
      "Truecaller: Caller ID, SMS spam blocking & Dialer : 100,000,000+\n",
      "UC Browser Mini -Tiny Fast Private & Secure : 100,000,000+\n",
      "Viber Messenger : 500,000,000+\n",
      "WeChat : 100,000,000+\n",
      "Yahoo Mail – Stay Organized : 100,000,000+\n",
      "BBM - Free Calls & Messages : 100,000,000+\n"
     ]
    }
   ],
   "source": [
    "for app in android_free:\n",
    "    if app[1] == 'COMMUNICATION' and (app[5] == '1,000,000,000+'\n",
    "                                      or app[5] == '500,000,000+'\n",
    "                                      or app[5] == '100,000,000+'):\n",
    "        print(app[0], ':', app[5])"
   ]
  },
  {
   "cell_type": "markdown",
   "id": "e470528e-f772-4d23-b773-a835514f4be6",
   "metadata": {},
   "source": [
    "The results confirm that a few major apps like WhatsApp, Skype, and Facebook Messenger dominate this category. This explains the high average installs, but it also suggests that breaking into this space would be very difficult due to the level of competition and user loyalty."
   ]
  },
  {
   "cell_type": "markdown",
   "id": "08cd9438-70d7-4698-8e04-35e9c1e47931",
   "metadata": {},
   "source": [
    "I will apply the same filter to the `Books and Reference` category. My goal is to check whether the high average installs here are more evenly distributed across multiple apps, which could suggest lower competition and more opportunity."
   ]
  },
  {
   "cell_type": "code",
   "execution_count": 30,
   "id": "e874d1ae-4be7-4c73-8d07-9e0d7e3f2dd4",
   "metadata": {},
   "outputs": [
    {
     "name": "stdout",
     "output_type": "stream",
     "text": [
      "Wikipedia : 10,000,000+\n",
      "Cool Reader : 10,000,000+\n",
      "Book store : 1,000,000+\n",
      "FBReader: Favorite Book Reader : 10,000,000+\n",
      "Free Books - Spirit Fanfiction and Stories : 1,000,000+\n",
      "Google Play Books : 1,000,000,000+\n",
      "AlReader -any text book reader : 5,000,000+\n",
      "FamilySearch Tree : 1,000,000+\n",
      "Cloud of Books : 1,000,000+\n",
      "ReadEra – free ebook reader : 1,000,000+\n",
      "Ebook Reader : 5,000,000+\n",
      "Read books online : 5,000,000+\n",
      "eBoox: book reader fb2 epub zip : 1,000,000+\n",
      "All Maths Formulas : 1,000,000+\n",
      "Ancestry : 5,000,000+\n",
      "HTC Help : 10,000,000+\n",
      "Moon+ Reader : 10,000,000+\n",
      "English-Myanmar Dictionary : 1,000,000+\n",
      "Golden Dictionary (EN-AR) : 1,000,000+\n",
      "All Language Translator Free : 1,000,000+\n",
      "Bible : 100,000,000+\n",
      "Amazon Kindle : 100,000,000+\n",
      "Aldiko Book Reader : 10,000,000+\n",
      "Wattpad 📖 Free Books : 100,000,000+\n",
      "Dictionary - WordWeb : 5,000,000+\n",
      "50000 Free eBooks & Free AudioBooks : 5,000,000+\n",
      "Al-Quran (Free) : 10,000,000+\n",
      "Al Quran Indonesia : 10,000,000+\n",
      "Al'Quran Bahasa Indonesia : 10,000,000+\n",
      "Al Quran Al karim : 1,000,000+\n",
      "Al Quran : EAlim - Translations & MP3 Offline : 5,000,000+\n",
      "Koran Read &MP3 30 Juz Offline : 1,000,000+\n",
      "Hafizi Quran 15 lines per page : 1,000,000+\n",
      "Quran for Android : 10,000,000+\n",
      "Satellite AR : 1,000,000+\n",
      "Audiobooks from Audible : 100,000,000+\n",
      "Oxford A-Z of English Usage : 1,000,000+\n",
      "Dictionary.com: Find Definitions for English Words : 10,000,000+\n",
      "English Dictionary - Offline : 10,000,000+\n",
      "Bible KJV : 5,000,000+\n",
      "NOOK: Read eBooks & Magazines : 10,000,000+\n",
      "Brilliant Quotes: Life, Love, Family & Motivation : 1,000,000+\n",
      "Stats Royale for Clash Royale : 1,000,000+\n",
      "Dictionary : 10,000,000+\n",
      "wikiHow: how to do anything : 1,000,000+\n",
      "EGW Writings : 1,000,000+\n",
      "My Little Pony AR Guide : 1,000,000+\n",
      "Spanish English Translator : 10,000,000+\n",
      "Dictionary - Merriam-Webster : 10,000,000+\n",
      "JW Library : 10,000,000+\n",
      "Oxford Dictionary of English : Free : 10,000,000+\n",
      "English Hindi Dictionary : 10,000,000+\n",
      "English to Hindi Dictionary : 5,000,000+\n"
     ]
    }
   ],
   "source": [
    "for app in android_free:\n",
    "    if app[1] == 'BOOKS_AND_REFERENCE' and (app[5] == '1,000,000,000+'\n",
    "                                            or app[5] == '500,000,000+'\n",
    "                                            or app[5] == '100,000,000+'\n",
    "                                            or app[5] =='1,000,000+'\n",
    "                                            or app[5] == '5,000,000+'\n",
    "                                            or app[5] == '10,000,000+'\n",
    "                                            or app[5] == '50,000,000+'):\n",
    "        print(app[0], ':', app[5])"
   ]
  },
  {
   "cell_type": "markdown",
   "id": "cf18612f-5eb5-4276-8750-ab8e759eabe9",
   "metadata": {},
   "source": [
    "Unlike `Communication`, this category has a broader range of popular apps. While there are still some large players, the install numbers are more evenly spread. This could indicate a less saturated market with more room to grow, making it a potentially better option for a new app."
   ]
  },
  {
   "cell_type": "markdown",
   "id": "fc83414f-f575-4937-942c-f5064437e3b4",
   "metadata": {},
   "source": [
    "Next, I will look into the `Productivity` category to see what kind of apps are behind the high average install numbers."
   ]
  },
  {
   "cell_type": "code",
   "execution_count": 31,
   "id": "eaca85a7-60a4-4000-9290-ccd736d0564c",
   "metadata": {},
   "outputs": [
    {
     "name": "stdout",
     "output_type": "stream",
     "text": [
      "Microsoft Word : 500,000,000+\n",
      "Microsoft Outlook : 100,000,000+\n",
      "Microsoft OneDrive : 100,000,000+\n",
      "Microsoft OneNote : 100,000,000+\n",
      "Google Keep : 100,000,000+\n",
      "ES File Explorer File Manager : 100,000,000+\n",
      "Dropbox : 500,000,000+\n",
      "Google Docs : 100,000,000+\n",
      "Microsoft PowerPoint : 100,000,000+\n",
      "Samsung Notes : 100,000,000+\n",
      "SwiftKey Keyboard : 100,000,000+\n",
      "Google Drive : 1,000,000,000+\n",
      "Adobe Acrobat Reader : 100,000,000+\n",
      "Google Sheets : 100,000,000+\n",
      "Microsoft Excel : 100,000,000+\n",
      "WPS Office - Word, Docs, PDF, Note, Slide & Sheet : 100,000,000+\n",
      "Google Slides : 100,000,000+\n",
      "ColorNote Notepad Notes : 100,000,000+\n",
      "Evernote – Organizer, Planner for Notes & Memos : 100,000,000+\n",
      "Google Calendar : 500,000,000+\n",
      "Cloud Print : 500,000,000+\n",
      "CamScanner - Phone PDF Creator : 100,000,000+\n"
     ]
    }
   ],
   "source": [
    "for app in android_free:\n",
    "    if app[1] == 'PRODUCTIVITY' and (app[5] == '1,000,000,000+'\n",
    "                                      or app[5] == '500,000,000+'\n",
    "                                      or app[5] == '100,000,000+'):\n",
    "        print(app[0], ':', app[5])"
   ]
  },
  {
   "cell_type": "markdown",
   "id": "aed71b5d-34ed-4f14-8cbe-cf3b6d6ba40f",
   "metadata": {},
   "source": [
    "It is clear that the `Productivity` category is heavily populated by apps from major tech companies like Microsoft and Google. These apps offer essential tools like word processing, cloud storage, and calendar management. Although the install numbers are high, the dominance of a few big players suggests that breaking into this space would require either a niche angle or significantly better functionality."
   ]
  },
  {
   "cell_type": "markdown",
   "id": "42ca8946-c959-488e-bacb-ee1d7afa9bea",
   "metadata": {},
   "source": [
    "## Final Thoughts"
   ]
  },
  {
   "cell_type": "markdown",
   "id": "aacf2d7d-7d38-4aef-95c3-7bd84ed36fe2",
   "metadata": {},
   "source": [
    "After cleaning the data and analyzing app genres from both the App Store and Google Play, I found that while entertainment apps like games and social networking are the most common, they are not necessarily the best choices for a new app project. These categories are oversaturated and often dominated by major companies.\n",
    "\n",
    "Instead, categories like `Navigation`, `Reference`, and `Productivity` on the App Store show strong user engagement based on average user ratings, despite having fewer apps overall. On Google Play, categories like `Books and Reference` and `Productivity` also perform well in terms of average installs, without being entirely dominated by a few apps.\n",
    "\n",
    "If I were to recommend a direction for building a new app, I would focus on one of these practical categories, especially where user demand is high but competition is lower. A well-designed, focused tool within one of these genres could stand out and gain traction more easily than trying to break into crowded entertainment categories.\n"
   ]
  }
 ],
 "metadata": {
  "kernelspec": {
   "display_name": "Python 3 (ipykernel)",
   "language": "python",
   "name": "python3"
  },
  "language_info": {
   "codemirror_mode": {
    "name": "ipython",
    "version": 3
   },
   "file_extension": ".py",
   "mimetype": "text/x-python",
   "name": "python",
   "nbconvert_exporter": "python",
   "pygments_lexer": "ipython3",
   "version": "3.13.5"
  }
 },
 "nbformat": 4,
 "nbformat_minor": 5
}
